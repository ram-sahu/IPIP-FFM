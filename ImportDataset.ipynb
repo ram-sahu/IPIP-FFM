{
 "cells": [
  {
   "cell_type": "code",
   "execution_count": 1,
   "id": "31ff4237",
   "metadata": {},
   "outputs": [
    {
     "name": "stderr",
     "output_type": "stream",
     "text": [
      "23/08/15 00:00:15 WARN Utils: Your hostname, user1664-VirtualBox resolves to a loopback address: 127.0.1.1; using 10.0.2.15 instead (on interface enp0s3)\n",
      "23/08/15 00:00:15 WARN Utils: Set SPARK_LOCAL_IP if you need to bind to another address\n",
      "23/08/15 00:00:15 WARN NativeCodeLoader: Unable to load native-hadoop library for your platform... using builtin-java classes where applicable\n",
      "Using Spark's default log4j profile: org/apache/spark/log4j-defaults.properties\n",
      "Setting default log level to \"WARN\".\n",
      "To adjust logging level use sc.setLogLevel(newLevel). For SparkR, use setLogLevel(newLevel).\n"
     ]
    }
   ],
   "source": [
    "# Create SparkSession from builder\n",
    "from pyspark.sql import SparkSession\n",
    "from pyspark.sql import functions\n",
    "from pyspark.sql.functions import col\n",
    "\n",
    "#config session\n",
    "spark = SparkSession.builder.master(\"local[*]\").appName(\"IPIP-FFM\")\\\n",
    "        .config(\"spark.driver.extraClassPath\", \"/home/user1664/Desktop/JDBC/mysql-connector-java-8.0.30.jar\")\\\n",
    "        .getOrCreate()"
   ]
  },
  {
   "cell_type": "code",
   "execution_count": 2,
   "id": "2aec4bb3",
   "metadata": {},
   "outputs": [],
   "source": [
    "df = spark.read.option(\"header\",True).option(\"delimiter\", \"\\t\").csv(\"IPIP-FFM-data-8Nov2018/data-final.csv\")\n",
    "\n",
    "#Transform\n",
    "df=df.coalesce(1).withColumn(\"UniqueID\", functions.monotonically_increasing_id())\n",
    "cols=['UniqueID','EXT1','EXT2', 'EXT3', 'EXT4', 'EXT5', 'EXT6', 'EXT7', 'EXT8', 'EXT9', 'EXT10', 'EST1', 'EST2', 'EST3', 'EST4', 'EST5', 'EST6', 'EST7', 'EST8', 'EST9', 'EST10', 'AGR1', 'AGR2', 'AGR3', 'AGR4', 'AGR5', 'AGR6', 'AGR7', 'AGR8', 'AGR9', 'AGR10', 'CSN1', 'CSN2', 'CSN3', 'CSN4', 'CSN5', 'CSN6' ,'CSN7', 'CSN8', 'CSN9', 'CSN10', 'OPN1', 'OPN2', 'OPN3', 'OPN4', 'OPN5', 'OPN6', 'OPN7', 'OPN8', 'OPN9', 'OPN10']\n",
    "df=df.select([col(c).cast(\"int\") for c in cols])\n",
    "\n",
    "df_ext =  df.select(\"UniqueID\",\"EXT1\",\"EXT2\",\"EXT3\",\"EXT4\",\"EXT5\",\"EXT6\",\"EXT7\",\"EXT8\",\"EXT9\",\"EXT10\")\n",
    "df_arg =  df.select(\"UniqueID\",\"AGR1\",\"AGR2\",\"AGR3\",\"AGR4\",\"AGR5\",\"AGR6\",\"AGR7\",\"AGR8\",\"AGR9\",\"AGR10\")\n",
    "df_csn =  df.select(\"UniqueID\",\"CSN1\",\"CSN2\",\"CSN3\",\"CSN4\",\"CSN5\",\"CSN6\",\"CSN7\",\"CSN8\",\"CSN9\",\"CSN10\")\n",
    "df_opn =  df.select(\"UniqueID\",\"OPN1\",\"OPN2\",\"OPN3\",\"OPN4\",\"OPN5\",\"OPN6\",\"OPN7\",\"OPN8\",\"OPN9\",\"OPN10\")"
   ]
  },
  {
   "cell_type": "code",
   "execution_count": 3,
   "id": "a1ba8ae1",
   "metadata": {},
   "outputs": [
    {
     "name": "stderr",
     "output_type": "stream",
     "text": [
      "\r",
      "[Stage 1:>                                                          (0 + 1) / 1]\r"
     ]
    },
    {
     "name": "stdout",
     "output_type": "stream",
     "text": [
      "+--------+\n",
      "|UniqueID|\n",
      "+--------+\n",
      "+--------+\n",
      "\n"
     ]
    },
    {
     "name": "stderr",
     "output_type": "stream",
     "text": [
      "\r",
      "                                                                                \r"
     ]
    }
   ],
   "source": [
    "#duplicate check on UniqueID\n",
    "df.groupBy(\"UniqueID\").count().where(\"count > 1\").drop(\"count\").show()"
   ]
  },
  {
   "cell_type": "code",
   "execution_count": 15,
   "id": "15371e14",
   "metadata": {},
   "outputs": [
    {
     "name": "stdout",
     "output_type": "stream",
     "text": [
      "+--------+----+----+----+----+----+----+----+----+----+-----+\n",
      "|UniqueID|OPN1|OPN2|OPN3|OPN4|OPN5|OPN6|OPN7|OPN8|OPN9|OPN10|\n",
      "+--------+----+----+----+----+----+----+----+----+----+-----+\n",
      "|       0|   5|   1|   4|   1|   4|   1|   5|   3|   4|    5|\n",
      "|       1|   1|   2|   4|   2|   3|   1|   4|   2|   5|    3|\n",
      "|       2|   5|   1|   2|   1|   4|   2|   5|   3|   4|    4|\n",
      "|       3|   4|   2|   5|   2|   3|   1|   4|   4|   3|    3|\n",
      "|       4|   5|   1|   5|   1|   5|   1|   5|   3|   5|    5|\n",
      "|       5|   5|   1|   5|   1|   3|   1|   5|   4|   5|    2|\n",
      "|       6|   5|   2|   4|   3|   4|   1|   5|   5|   4|    4|\n",
      "|       7|   4|   1|   3|   1|   5|   1|   4|   3|   4|    5|\n",
      "|       8|   4|   1|   5|   1|   4|   1|   5|   2|   5|    5|\n",
      "|       9|   3|   1|   3|   1|   3|   3|   4|   3|   3|    3|\n",
      "|      10|   5|   1|   5|   1|   5|   1|   5|   5|   5|    5|\n",
      "|      11|   4|   1|   5|   1|   5|   3|   1|   5|   5|    5|\n",
      "|      12|   5|   1|   5|   1|   4|   1|   5|   5|   5|    5|\n",
      "|      13|   5|   1|   4|   1|   2|   2|   4|   5|   5|    3|\n",
      "|      14|   5|   4|   5|   5|   4|   1|   4|   4|   5|    5|\n",
      "|      15|   5|   2|   5|   3|   4|   1|   3|   3|   5|    5|\n",
      "|      16|   4|   2|   4|   3|   4|   2|   4|   3|   4|    4|\n",
      "|      17|   3|   3|   4|   3|   3|   4|   3|   2|   2|    3|\n",
      "|      18|   4|   1|   5|   1|   3|   5|   4|   2|   5|    3|\n",
      "|      19|   4|   5|   3|   5|   4|   3|   5|   4|   2|    3|\n",
      "+--------+----+----+----+----+----+----+----+----+----+-----+\n",
      "only showing top 20 rows\n",
      "\n",
      "root\n",
      " |-- UniqueID: integer (nullable = false)\n",
      " |-- OPN1: integer (nullable = true)\n",
      " |-- OPN2: integer (nullable = true)\n",
      " |-- OPN3: integer (nullable = true)\n",
      " |-- OPN4: integer (nullable = true)\n",
      " |-- OPN5: integer (nullable = true)\n",
      " |-- OPN6: integer (nullable = true)\n",
      " |-- OPN7: integer (nullable = true)\n",
      " |-- OPN8: integer (nullable = true)\n",
      " |-- OPN9: integer (nullable = true)\n",
      " |-- OPN10: integer (nullable = true)\n",
      "\n"
     ]
    },
    {
     "name": "stderr",
     "output_type": "stream",
     "text": [
      "                                                                                \r"
     ]
    },
    {
     "data": {
      "text/plain": [
       "'Total count= 1015341'"
      ]
     },
     "execution_count": 15,
     "metadata": {},
     "output_type": "execute_result"
    }
   ],
   "source": [
    "df_opn.show()\n",
    "df_opn.printSchema()\n",
    "\"Total count= \"+ str(df_opn.count())"
   ]
  },
  {
   "cell_type": "code",
   "execution_count": 5,
   "id": "2089bba3",
   "metadata": {
    "scrolled": true
   },
   "outputs": [
    {
     "name": "stderr",
     "output_type": "stream",
     "text": [
      "23/08/15 00:00:26 WARN package: Truncated the string representation of a plan since it was too large. This behavior can be adjusted by setting 'spark.sql.debug.maxToStringFields'.\n",
      "[Stage 4:>                                                          (0 + 1) / 1]\r"
     ]
    },
    {
     "name": "stdout",
     "output_type": "stream",
     "text": [
      "+--------+----+----+----+----+----+----+----+----+----+-----+\n",
      "|UniqueID|EXT1|EXT2|EXT3|EXT4|EXT5|EXT6|EXT7|EXT8|EXT9|EXT10|\n",
      "+--------+----+----+----+----+----+----+----+----+----+-----+\n",
      "|       0|   4|   1|   5|   2|   5|   1|   5|   2|   4|    1|\n",
      "|       1|   3|   5|   3|   4|   3|   3|   2|   5|   1|    5|\n",
      "|       2|   2|   3|   4|   4|   3|   2|   1|   3|   2|    5|\n",
      "|       3|   2|   2|   2|   3|   4|   2|   2|   4|   1|    4|\n",
      "|       4|   3|   3|   3|   3|   5|   3|   3|   5|   3|    4|\n",
      "|       5|   3|   3|   4|   2|   4|   2|   2|   3|   3|    4|\n",
      "|       6|   4|   3|   4|   3|   3|   3|   5|   3|   4|    3|\n",
      "|       7|   3|   1|   5|   2|   5|   2|   5|   2|   3|    2|\n",
      "|       8|   2|   2|   3|   3|   4|   2|   2|   2|   4|    4|\n",
      "|       9|   1|   5|   3|   5|   2|   3|   2|   4|   5|    4|\n",
      "|      10|   3|   3|   2|   3|   3|   2|   4|   3|   3|    5|\n",
      "|      11|   3|   1|   5|   3|   5|   1|   5|   5|   5|    3|\n",
      "|      12|   4|   1|   5|   4|   5|   1|   4|   1|   5|    2|\n",
      "|      13|   1|   5|   1|   5|   1|   5|   1|   5|   1|    5|\n",
      "|      14|   1|   5|   2|   5|   1|   4|   1|   2|   2|    5|\n",
      "|      15|   2|   1|   3|   4|   4|   3|   5|   3|   3|    5|\n",
      "|      16|   1|   4|   2|   4|   2|   3|   2|   4|   2|    4|\n",
      "|      17|   4|   1|   5|   2|   4|   2|   3|   2|   4|    2|\n",
      "|      18|   4|   2|   5|   3|   4|   4|   5|   2|   5|    2|\n",
      "|      19|   5|   1|   5|   2|   5|   1|   5|   3|   5|    4|\n",
      "+--------+----+----+----+----+----+----+----+----+----+-----+\n",
      "only showing top 20 rows\n",
      "\n"
     ]
    },
    {
     "name": "stderr",
     "output_type": "stream",
     "text": [
      "\r",
      "                                                                                \r"
     ]
    }
   ],
   "source": [
    "df_ext.write.mode(\"overwrite\").format(\"jdbc\") \\\n",
    "        .option(\"user\",\"root\") \\\n",
    "        .option(\"password\", \"1664\") \\\n",
    "        .option(\"url\",\"jdbc:mysql://localhost:3306/DB\") \\\n",
    "        .option(\"dbtable\",\"Staging_ext\") \\\n",
    "        .save()\n",
    "\n",
    "\n",
    "df_extread=spark.read.format(\"jdbc\")\\\n",
    "        .options(url =\"jdbc:mysql://localhost:3306/DB\",dbtable=\"Staging_ext\",user=\"root\",password=\"1664\")\\\n",
    "            .load()\n",
    "\n",
    "df_extread.show()"
   ]
  },
  {
   "cell_type": "code",
   "execution_count": 6,
   "id": "8daeb413",
   "metadata": {},
   "outputs": [
    {
     "name": "stderr",
     "output_type": "stream",
     "text": [
      "[Stage 6:>                                                          (0 + 1) / 1]\r"
     ]
    },
    {
     "name": "stdout",
     "output_type": "stream",
     "text": [
      "+--------+----+----+----+----+----+----+----+----+----+-----+\n",
      "|UniqueID|CSN1|CSN2|CSN3|CSN4|CSN5|CSN6|CSN7|CSN8|CSN9|CSN10|\n",
      "+--------+----+----+----+----+----+----+----+----+----+-----+\n",
      "|       0|   3|   4|   3|   2|   2|   4|   4|   2|   4|    4|\n",
      "|       1|   3|   2|   5|   3|   3|   1|   3|   3|   5|    3|\n",
      "|       2|   4|   2|   2|   2|   3|   3|   4|   2|   4|    2|\n",
      "|       3|   2|   4|   4|   4|   1|   2|   2|   3|   1|    4|\n",
      "|       4|   5|   1|   5|   1|   3|   1|   5|   1|   5|    5|\n",
      "|       5|   3|   2|   4|   1|   3|   2|   4|   3|   4|    3|\n",
      "|       6|   3|   2|   4|   2|   1|   4|   4|   2|   2|    5|\n",
      "|       7|   5|   1|   5|   1|   4|   2|   3|   2|   5|    5|\n",
      "|       8|   3|   3|   4|   0|   3|   4|   1|   2|   1|    4|\n",
      "|       9|   2|   5|   1|   5|   1|   4|   3|   4|   2|    2|\n",
      "|      10|   1|   5|   5|   5|   1|   5|   3|   1|   1|    5|\n",
      "|      11|   5|   5|   5|   3|   5|   5|   5|   3|   3|    5|\n",
      "|      12|   2|   4|   5|   4|   2|   3|   1|   4|   1|    2|\n",
      "|      13|   3|   2|   5|   3|   4|   1|   5|   3|   4|    3|\n",
      "|      14|   4|   4|   2|   4|   2|   3|   4|   1|   4|    5|\n",
      "|      15|   3|   3|   4|   4|   4|   2|   3|   3|   4|    5|\n",
      "|      16|   2|   2|   3|   3|   2|   4|   3|   2|   2|    3|\n",
      "|      17|   3|   3|   4|   4|   2|   3|   4|   3|   2|    3|\n",
      "|      18|   0|   3|   5|   3|   1|   5|   3|   2|   1|    2|\n",
      "|      19|   4|   1|   5|   1|   5|   5|   5|   1|   5|    5|\n",
      "+--------+----+----+----+----+----+----+----+----+----+-----+\n",
      "only showing top 20 rows\n",
      "\n"
     ]
    },
    {
     "name": "stderr",
     "output_type": "stream",
     "text": [
      "\r",
      "                                                                                \r"
     ]
    }
   ],
   "source": [
    "df_csn.write.mode(\"overwrite\").format(\"jdbc\") \\\n",
    "        .option(\"user\",\"root\") \\\n",
    "        .option(\"password\", \"1664\") \\\n",
    "        .option(\"url\",\"jdbc:mysql://localhost:3306/DB\") \\\n",
    "        .option(\"dbtable\",\"Staging_csn\") \\\n",
    "        .save()\n",
    "\n",
    "\n",
    "df_csnread=spark.read.format(\"jdbc\")\\\n",
    "        .options(url =\"jdbc:mysql://localhost:3306/DB\",dbtable=\"Staging_csn\",user=\"root\",password=\"1664\")\\\n",
    "            .load()\n",
    "\n",
    "df_csnread.show()"
   ]
  },
  {
   "cell_type": "code",
   "execution_count": 7,
   "id": "5888cd62",
   "metadata": {},
   "outputs": [
    {
     "name": "stderr",
     "output_type": "stream",
     "text": [
      "[Stage 8:>                                                          (0 + 1) / 1]\r"
     ]
    },
    {
     "name": "stdout",
     "output_type": "stream",
     "text": [
      "+--------+----+----+----+----+----+----+----+----+----+-----+\n",
      "|UniqueID|AGR1|AGR2|AGR3|AGR4|AGR5|AGR6|AGR7|AGR8|AGR9|AGR10|\n",
      "+--------+----+----+----+----+----+----+----+----+----+-----+\n",
      "|       0|   2|   5|   2|   4|   2|   3|   2|   4|   3|    4|\n",
      "|       1|   1|   4|   1|   5|   1|   5|   3|   4|   5|    3|\n",
      "|       2|   1|   4|   1|   4|   2|   4|   1|   4|   4|    3|\n",
      "|       3|   2|   4|   3|   4|   2|   4|   2|   4|   3|    4|\n",
      "|       4|   1|   5|   1|   5|   1|   3|   1|   5|   5|    3|\n",
      "|       5|   2|   3|   1|   4|   2|   3|   2|   3|   4|    4|\n",
      "|       6|   1|   2|   1|   5|   3|   5|   3|   4|   4|    5|\n",
      "|       7|   2|   5|   2|   4|   3|   2|   2|   4|   4|    4|\n",
      "|       8|   1|   5|   1|   5|   1|   3|   1|   4|   4|    4|\n",
      "|       9|   5|   3|   5|   1|   5|   3|   4|   2|   3|    2|\n",
      "|      10|   2|   5|   3|   4|   2|   3|   1|   3|   4|    2|\n",
      "|      11|   2|   5|   5|   3|   3|   5|   3|   5|   5|    5|\n",
      "|      12|   1|   5|   2|   5|   1|   4|   1|   5|   5|    5|\n",
      "|      13|   2|   2|   2|   3|   3|   3|   3|   0|   3|    1|\n",
      "|      14|   2|   5|   4|   5|   1|   5|   2|   4|   5|    5|\n",
      "|      15|   5|   5|   5|   5|   2|   3|   3|   3|   4|    5|\n",
      "|      16|   2|   3|   3|   3|   3|   4|   3|   4|   4|    3|\n",
      "|      17|   4|   5|   1|   5|   2|   4|   2|   4|   4|    4|\n",
      "|      18|   1|   5|   1|   5|   1|   5|   1|   5|   5|    4|\n",
      "|      19|   3|   3|   4|   3|   2|   5|   1|   4|   4|    4|\n",
      "+--------+----+----+----+----+----+----+----+----+----+-----+\n",
      "only showing top 20 rows\n",
      "\n"
     ]
    },
    {
     "name": "stderr",
     "output_type": "stream",
     "text": [
      "\r",
      "                                                                                \r"
     ]
    }
   ],
   "source": [
    "df_arg.write.mode(\"overwrite\").format(\"jdbc\") \\\n",
    "        .option(\"user\",\"root\") \\\n",
    "        .option(\"password\", \"1664\") \\\n",
    "        .option(\"url\",\"jdbc:mysql://localhost:3306/DB\") \\\n",
    "        .option(\"dbtable\",\"Staging_arg\") \\\n",
    "        .save()\n",
    "\n",
    "\n",
    "df_argread=spark.read.format(\"jdbc\")\\\n",
    "        .options(url =\"jdbc:mysql://localhost:3306/DB\",dbtable=\"Staging_arg\",user=\"root\",password=\"1664\")\\\n",
    "            .load()\n",
    "\n",
    "df_argread.show()"
   ]
  },
  {
   "cell_type": "code",
   "execution_count": 8,
   "id": "6b4a6c82",
   "metadata": {},
   "outputs": [
    {
     "name": "stderr",
     "output_type": "stream",
     "text": [
      "[Stage 10:>                                                         (0 + 1) / 1]\r"
     ]
    },
    {
     "name": "stdout",
     "output_type": "stream",
     "text": [
      "+--------+----+----+----+----+----+----+----+----+----+-----+\n",
      "|UniqueID|OPN1|OPN2|OPN3|OPN4|OPN5|OPN6|OPN7|OPN8|OPN9|OPN10|\n",
      "+--------+----+----+----+----+----+----+----+----+----+-----+\n",
      "|       0|   5|   1|   4|   1|   4|   1|   5|   3|   4|    5|\n",
      "|       1|   1|   2|   4|   2|   3|   1|   4|   2|   5|    3|\n",
      "|       2|   5|   1|   2|   1|   4|   2|   5|   3|   4|    4|\n",
      "|       3|   4|   2|   5|   2|   3|   1|   4|   4|   3|    3|\n",
      "|       4|   5|   1|   5|   1|   5|   1|   5|   3|   5|    5|\n",
      "|       5|   5|   1|   5|   1|   3|   1|   5|   4|   5|    2|\n",
      "|       6|   5|   2|   4|   3|   4|   1|   5|   5|   4|    4|\n",
      "|       7|   4|   1|   3|   1|   5|   1|   4|   3|   4|    5|\n",
      "|       8|   4|   1|   5|   1|   4|   1|   5|   2|   5|    5|\n",
      "|       9|   3|   1|   3|   1|   3|   3|   4|   3|   3|    3|\n",
      "|      10|   5|   1|   5|   1|   5|   1|   5|   5|   5|    5|\n",
      "|      11|   4|   1|   5|   1|   5|   3|   1|   5|   5|    5|\n",
      "|      12|   5|   1|   5|   1|   4|   1|   5|   5|   5|    5|\n",
      "|      13|   5|   1|   4|   1|   2|   2|   4|   5|   5|    3|\n",
      "|      14|   5|   4|   5|   5|   4|   1|   4|   4|   5|    5|\n",
      "|      15|   5|   2|   5|   3|   4|   1|   3|   3|   5|    5|\n",
      "|      16|   4|   2|   4|   3|   4|   2|   4|   3|   4|    4|\n",
      "|      17|   3|   3|   4|   3|   3|   4|   3|   2|   2|    3|\n",
      "|      18|   4|   1|   5|   1|   3|   5|   4|   2|   5|    3|\n",
      "|      19|   4|   5|   3|   5|   4|   3|   5|   4|   2|    3|\n",
      "+--------+----+----+----+----+----+----+----+----+----+-----+\n",
      "only showing top 20 rows\n",
      "\n"
     ]
    },
    {
     "name": "stderr",
     "output_type": "stream",
     "text": [
      "\r",
      "                                                                                \r"
     ]
    }
   ],
   "source": [
    "df_opn.write.mode(\"overwrite\").format(\"jdbc\") \\\n",
    "        .option(\"user\",\"root\") \\\n",
    "        .option(\"password\", \"1664\") \\\n",
    "        .option(\"url\",\"jdbc:mysql://localhost:3306/DB\") \\\n",
    "        .option(\"dbtable\",\"Staging_opn\") \\\n",
    "        .save()\n",
    "\n",
    "\n",
    "df_opnread=spark.read.format(\"jdbc\")\\\n",
    "        .options(url =\"jdbc:mysql://localhost:3306/DB\",dbtable=\"Staging_opn\",user=\"root\",password=\"1664\")\\\n",
    "            .load()\n",
    "\n",
    "df_opnread.show()"
   ]
  },
  {
   "cell_type": "code",
   "execution_count": null,
   "id": "9d9f8443",
   "metadata": {},
   "outputs": [],
   "source": []
  }
 ],
 "metadata": {
  "kernelspec": {
   "display_name": "Python 3 (ipykernel)",
   "language": "python",
   "name": "python3"
  },
  "language_info": {
   "codemirror_mode": {
    "name": "ipython",
    "version": 3
   },
   "file_extension": ".py",
   "mimetype": "text/x-python",
   "name": "python",
   "nbconvert_exporter": "python",
   "pygments_lexer": "ipython3",
   "version": "3.9.12"
  }
 },
 "nbformat": 4,
 "nbformat_minor": 5
}
