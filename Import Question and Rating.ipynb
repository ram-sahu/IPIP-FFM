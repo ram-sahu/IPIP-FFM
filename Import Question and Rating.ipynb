{
 "cells": [
  {
   "cell_type": "code",
   "execution_count": 1,
   "id": "b44abb1d",
   "metadata": {
    "scrolled": true
   },
   "outputs": [
    {
     "name": "stderr",
     "output_type": "stream",
     "text": [
      "22/08/24 15:14:22 WARN Utils: Your hostname, user1664-VirtualBox resolves to a loopback address: 127.0.1.1; using 10.0.2.15 instead (on interface enp0s3)\n",
      "22/08/24 15:14:22 WARN Utils: Set SPARK_LOCAL_IP if you need to bind to another address\n",
      "22/08/24 15:14:22 WARN NativeCodeLoader: Unable to load native-hadoop library for your platform... using builtin-java classes where applicable\n",
      "Using Spark's default log4j profile: org/apache/spark/log4j-defaults.properties\n",
      "Setting default log level to \"WARN\".\n",
      "To adjust logging level use sc.setLogLevel(newLevel). For SparkR, use setLogLevel(newLevel).\n",
      "22/08/24 15:14:23 WARN Utils: Service 'SparkUI' could not bind on port 4040. Attempting port 4041.\n"
     ]
    }
   ],
   "source": [
    "from pyspark.sql import SparkSession\n",
    "\n",
    "#config session\n",
    "spark = SparkSession.builder.master(\"local[1]\").appName(\"IPIP-FFM\")\\\n",
    "        .config(\"spark.driver.extraClassPath\", \"/home/user1664/Desktop/JDBC/mysql-connector-java-8.0.30.jar\")\\\n",
    "        .getOrCreate()"
   ]
  },
  {
   "cell_type": "code",
   "execution_count": 5,
   "id": "2ed44290",
   "metadata": {
    "scrolled": true
   },
   "outputs": [],
   "source": [
    "df_q = spark.read.option(\"delimiter\", \"\\t\").csv(\"IPIP-FFM-data-8Nov2018/question.csv\")\n",
    "\n",
    "df_q.write.mode(\"overwrite\").format(\"jdbc\") \\\n",
    "        .option(\"user\",\"root\") \\\n",
    "        .option(\"password\", \"1664\") \\\n",
    "        .option(\"url\",\"jdbc:mysql://localhost:3306/DB\") \\\n",
    "        .option(\"dbtable\",\"Staging_question\") \\\n",
    "        .save()"
   ]
  },
  {
   "cell_type": "code",
   "execution_count": 2,
   "id": "24e587e2",
   "metadata": {
    "scrolled": true
   },
   "outputs": [
    {
     "name": "stdout",
     "output_type": "stream",
     "text": [
      "+-----+--------------------+\n",
      "|  _c0|                 _c1|\n",
      "+-----+--------------------+\n",
      "| EXT1|I am the life of ...|\n",
      "| EXT2| I don't talk a lot.|\n",
      "| EXT3|I feel comfortabl...|\n",
      "| EXT4|I keep in the bac...|\n",
      "| EXT5|I start conversat...|\n",
      "| EXT6|I have little to ...|\n",
      "| EXT7|I talk to a lot o...|\n",
      "| EXT8|I don't like to d...|\n",
      "| EXT9|I don't mind bein...|\n",
      "|EXT10|I am quiet around...|\n",
      "| EST1|I get stressed ou...|\n",
      "| EST2|I am relaxed most...|\n",
      "| EST3|I worry about thi...|\n",
      "| EST4| I seldom feel blue.|\n",
      "| EST5|I am easily distu...|\n",
      "| EST6| I get upset easily.|\n",
      "| EST7|I change my mood ...|\n",
      "| EST8|I have frequent m...|\n",
      "| EST9|I get irritated e...|\n",
      "|EST10|  I often feel blue.|\n",
      "+-----+--------------------+\n",
      "only showing top 20 rows\n",
      "\n"
     ]
    }
   ],
   "source": [
    "\n",
    "df_qread=spark.read.format(\"jdbc\")\\\n",
    "        .options(url =\"jdbc:mysql://localhost:3306/DB\",dbtable=\"Staging_question\",user=\"root\",password=\"1664\")\\\n",
    "            .load()\n",
    "\n",
    "df_qread.show()"
   ]
  },
  {
   "cell_type": "code",
   "execution_count": 4,
   "id": "a2854e79",
   "metadata": {},
   "outputs": [],
   "source": [
    "df_r = spark.read.option(\"delimiter\", \"\\t\").csv(\"IPIP-FFM-data-8Nov2018/Rating.csv\")\n",
    "\n",
    "df_r.write.mode(\"overwrite\").format(\"jdbc\") \\\n",
    "        .option(\"user\",\"root\") \\\n",
    "        .option(\"password\", \"1664\") \\\n",
    "        .option(\"url\",\"jdbc:mysql://localhost:3306/DB\") \\\n",
    "        .option(\"dbtable\",\"Staging_rate\") \\\n",
    "        .save()"
   ]
  },
  {
   "cell_type": "code",
   "execution_count": 3,
   "id": "cc00bfa8",
   "metadata": {
    "scrolled": false
   },
   "outputs": [
    {
     "name": "stdout",
     "output_type": "stream",
     "text": [
      "+---+------------+\n",
      "|_c0|         _c1|\n",
      "+---+------------+\n",
      "|  1|    Disagree|\n",
      "|  2|Mod-Disagree|\n",
      "|  3|     Neutral|\n",
      "|  4|   Mod-Agree|\n",
      "|  5|       Agree|\n",
      "+---+------------+\n",
      "\n"
     ]
    }
   ],
   "source": [
    "df_rread=spark.read.format(\"jdbc\")\\\n",
    "        .options(url =\"jdbc:mysql://localhost:3306/DB\",dbtable=\"Staging_rate\",user=\"root\",password=\"1664\")\\\n",
    "            .load()\n",
    "\n",
    "df_rread.show()"
   ]
  },
  {
   "cell_type": "code",
   "execution_count": null,
   "id": "b86d3745",
   "metadata": {},
   "outputs": [],
   "source": []
  }
 ],
 "metadata": {
  "kernelspec": {
   "display_name": "Python 3 (ipykernel)",
   "language": "python",
   "name": "python3"
  },
  "language_info": {
   "codemirror_mode": {
    "name": "ipython",
    "version": 3
   },
   "file_extension": ".py",
   "mimetype": "text/x-python",
   "name": "python",
   "nbconvert_exporter": "python",
   "pygments_lexer": "ipython3",
   "version": "3.9.12"
  }
 },
 "nbformat": 4,
 "nbformat_minor": 5
}
